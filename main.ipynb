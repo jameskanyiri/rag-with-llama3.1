{
 "cells": [
  {
   "cell_type": "code",
   "execution_count": 27,
   "metadata": {},
   "outputs": [
    {
     "data": {
      "text/plain": [
       "True"
      ]
     },
     "execution_count": 27,
     "metadata": {},
     "output_type": "execute_result"
    }
   ],
   "source": [
    "from dotenv import load_dotenv\n",
    "import os\n",
    "from langchain_ollama import ChatOllama\n",
    "from langchain_ollama import OllamaEmbeddings\n",
    "from langchain_openai import ChatOpenAI\n",
    "from langchain_openai import OpenAIEmbeddings\n",
    "\n",
    "load_dotenv()\n"
   ]
  },
  {
   "cell_type": "code",
   "execution_count": 28,
   "metadata": {},
   "outputs": [],
   "source": [
    "def get_llm():\n",
    "    llm_type = os.getenv(\"LLM_TYPE\", \"ollama\")\n",
    "  \n",
    "    if llm_type == \"ollama\":\n",
    "        return ChatOllama(model=\"llama3.1:latest\", temperature=0)\n",
    "    else:\n",
    "        return ChatOpenAI(temperature=0)\n",
    "\n",
    "\n",
    "def get_embeddings():\n",
    "    embedding_type = os.getenv(\"LLM_TYPE\", \"ollama\")\n",
    "\n",
    "    if embedding_type == \"ollama\":\n",
    "        return OllamaEmbeddings(model=\"llama3.1:latest\")\n",
    "    else:\n",
    "        return OpenAIEmbeddings()\n",
    "    \n"
   ]
  },
  {
   "cell_type": "markdown",
   "metadata": {},
   "source": [
    "### Create Vector DB"
   ]
  },
  {
   "cell_type": "code",
   "execution_count": 29,
   "metadata": {},
   "outputs": [
    {
     "data": {
      "text/plain": [
       "[Document(metadata={'source': 'about_iphone_16.txt'}, page_content='The iPhone 16, the latest innovation from Apple, introduces Apple Intelligence, harnessing advanced AI tools to enhance user productivity, creativity, and photography. Built with a focus on power and design, iPhone 16 features the A18 chip, a durable build, and comes in five vibrant colors. It offers users a sleek and immersive experience with a range of new features.'),\n",
       " Document(metadata={'source': 'about_iphone_16.txt'}, page_content='The iPhone 16, the latest innovation from Apple, introduces Apple Intelligence, harnessing advanced AI tools to enhance user productivity, creativity, and photography. Built with a focus on power and design, iPhone 16 features the A18 chip, a durable build, and comes in five vibrant colors. It offers users a sleek and immersive experience with a range of new features.')]"
      ]
     },
     "execution_count": 29,
     "metadata": {},
     "output_type": "execute_result"
    }
   ],
   "source": [
    "from langchain.schema import Document\n",
    "from langchain_chroma import Chroma\n",
    "from uuid import uuid4\n",
    "\n",
    "embedding_function = get_embeddings()\n",
    "\n",
    "docs = [\n",
    "    Document(\n",
    "        page_content=(\n",
    "            \"The iPhone 16, the latest innovation from Apple, introduces Apple Intelligence, harnessing advanced AI tools to enhance user productivity, creativity, and photography. Built with a focus on power and design, iPhone 16 features the A18 chip, a durable build, and comes in five vibrant colors. It offers users a sleek and immersive experience with a range of new features.\"\n",
    "        ),\n",
    "        metadata={\"source\": \"about_iphone_16.txt\"},\n",
    "    ),\n",
    "    Document(\n",
    "        page_content=(\n",
    "            \"The iPhone 16 lineup offers a variety of options to suit diverse user preferences. Equipped with a new 48MP camera system featuring an Ultra Wide lens, it enables detailed photography. The inclusion of Apple’s Action button provides quick access to essential functions, enhancing user convenience and customization.\"\n",
    "        ),\n",
    "        metadata={\"source\": \"features_and_camera.txt\"},\n",
    "    ),\n",
    "    Document(\n",
    "        page_content=(\n",
    "            \"Apple offers round-the-clock customer support for iPhone 16 users. Users can access a range of support services, from setup assistance to troubleshooting, ensuring a seamless experience. In addition, iOS 18 introduces satellite messaging for emergency connectivity, ensuring users can stay connected even in remote areas.\"\n",
    "        ),\n",
    "        metadata={\"source\": \"support_and_services.txt\"},\n",
    "    ),\n",
    "    Document(\n",
    "        page_content=(\n",
    "            \"The iPhone 16 is engineered for durability and efficiency. Powered by the new A18 chip, it delivers enhanced performance and improved battery life. Its robust design, combined with innovative features like Apple Intelligence and satellite messaging, makes it a versatile tool for both everyday use and professional needs.\"\n",
    "        ),\n",
    "        metadata={\"source\": \"product_specs.txt\"},\n",
    "    ),\n",
    "]\n",
    "\n",
    "\n",
    "\n",
    "#Chroma initialization\n",
    "vector_store = Chroma(\n",
    "    collection_name=\"app-document\",\n",
    "    embedding_function=embedding_function,\n",
    "    persist_directory=\"chroma_db\",  # Where to save data locally\n",
    ")\n",
    "\n",
    "\n",
    "uuids = [str(uuid4()) for _ in range(len(docs))]\n",
    "\n",
    "#add the documents to the vector store\n",
    "vector_store.add_documents(documents=docs, ids=uuids)\n",
    "\n",
    "retriever = vector_store.as_retriever(\n",
    "    search_type=\"mmr\",\n",
    "    search_kwargs={\"k\":2, \"fetch_k\": 4}\n",
    ")\n",
    "\n",
    "retriever.invoke(\"What new features does the iPhone 16 introduce?\")\n",
    "\n"
   ]
  },
  {
   "cell_type": "code",
   "execution_count": 30,
   "metadata": {},
   "outputs": [],
   "source": [
    "from typing_extensions import TypedDict\n",
    "\n",
    "class AgentState(TypedDict):\n",
    "    question: str\n",
    "    grades: list[str]\n",
    "    llm_output: list[str]\n",
    "    documents: list[str]\n",
    "    on_topic: bool"
   ]
  },
  {
   "cell_type": "code",
   "execution_count": 31,
   "metadata": {},
   "outputs": [],
   "source": [
    "def retrieve_docs(state: AgentState):\n",
    "    question = state['question']\n",
    "\n",
    "    documents = retriever.get_relevant_documents(query=question)\n",
    "\n",
    "    print(\"RETRIEVED DOCUMENTS: \", documents)\n",
    "\n",
    "    state['documents'] = [doc.page_content for doc in documents]\n",
    "\n",
    "    return state\n",
    "\n"
   ]
  },
  {
   "cell_type": "code",
   "execution_count": 32,
   "metadata": {},
   "outputs": [],
   "source": [
    "from langchain_core.pydantic_v1 import BaseModel, Field\n",
    "from langchain_core.prompts import ChatPromptTemplate\n",
    "\n",
    "class GradeQuestion(BaseModel):\n",
    "    \"\"\" Boolean value to check whether a question is related to iPhone 16\"\"\"\n",
    "\n",
    "    score: str = Field(\n",
    "        description=\"Is the Question about iPhone 16? If yes -> 'Yes' if not -> 'No'\"\n",
    "    )\n",
    "\n",
    "\n",
    "def question_classifier(state: AgentState):\n",
    "    question  = state['question']\n",
    "\n",
    "    system =  \"\"\"\n",
    "            You are a grader assessing the topic of a user question.\n",
    "            \n",
    "            Only answer if the question is about one of the following topics:\n",
    "            1. About the iPhone 16.\n",
    "            2. Features and Cameras of iPhone 16.\n",
    "            3. Service and support for the iPhone 16.\n",
    "            4. iPhone 16 product specifications.\n",
    "\n",
    "            Example: How will the weather be today? -> No\n",
    "                    What are the features of the iPhone 16? -> Yes\n",
    "                    What services do you offer? -> No\n",
    "\n",
    "            If the question IS about the topics, respond with \"Yes\", otherwise respond with \"No\".\n",
    "        \"\"\"\n",
    "    \n",
    "    grade_prompt = ChatPromptTemplate.from_messages(\n",
    "        [\n",
    "            (\"system\", system),\n",
    "            (\"human\", \"User question: {question}\"),\n",
    "        ]\n",
    "    )\n",
    "\n",
    "    llm = get_llm()\n",
    "    structured_llm = llm.with_structured_output(GradeQuestion)\n",
    "    grader_llm = grade_prompt | structured_llm\n",
    "    result = grader_llm.invoke({\"question\": question})\n",
    "    print(f\"QUESTION and GRADE: {question} - {result.score}\")\n",
    "    state[\"on_topic\"] = result.score\n",
    "    return state\n",
    "\n"
   ]
  },
  {
   "cell_type": "code",
   "execution_count": 33,
   "metadata": {},
   "outputs": [],
   "source": [
    "def on_topic_router(state: AgentState):\n",
    "    on_topic = state['on_topic']\n",
    "\n",
    "    if on_topic.lower() == \"yes\":\n",
    "        return \"on_topic\"\n",
    "    else:\n",
    "        return 'off_topic'\n"
   ]
  },
  {
   "cell_type": "code",
   "execution_count": 34,
   "metadata": {},
   "outputs": [],
   "source": [
    "def off_topic_response(state: AgentState):\n",
    "    print('=== OUT OF TOPIC QUESTION ====')\n",
    "    state[\"llm_output\"] = \"I cant respond to that!\"\n",
    "    return state"
   ]
  },
  {
   "cell_type": "code",
   "execution_count": 35,
   "metadata": {},
   "outputs": [],
   "source": [
    "class GradeDocuments(BaseModel):\n",
    "    \"\"\"Boolean values to check for relevance on retrieved documents.\"\"\"\n",
    "\n",
    "    score: str = Field(\n",
    "        description = \"Documents are relevant to the question, 'Yes' or 'No'\"\n",
    "    )\n",
    "\n",
    "def document_grader(state: AgentState):\n",
    "    docs = state['documents']\n",
    "    question = state['question']\n",
    "\n",
    "    system = \"\"\"You are a grader assessing relevance of retrieved documents to a user question. \\n\n",
    "    If the document contains keyword(s) or semantic meaning related to the question, grade it as relevant. \\n\n",
    "    Give a binary score 'Yes' or 'No' score to indicate whether the document is relevant to the question.\n",
    "    \"\"\"\n",
    "\n",
    "    grade_prompt = ChatPromptTemplate.from_messages(\n",
    "        [\n",
    "            ('system', system),\n",
    "            (\"human\", \"Retrieved document: \\n\\n {document} \\n\\n User question {question}\")\n",
    "        ]\n",
    "    )\n",
    "\n",
    "    llm = get_llm()\n",
    "    structure_llm = llm.with_structured_output(GradeDocuments)\n",
    "    grader_llm = grade_prompt | structure_llm\n",
    "\n",
    "    scores = []\n",
    "\n",
    "    for doc in docs:\n",
    "        result = grader_llm.invoke({\"document\": doc, \"question\": question})\n",
    "        print(result)\n",
    "        scores.append(result.score)\n",
    "    state['grades'] = scores\n",
    "\n",
    "    return state"
   ]
  },
  {
   "cell_type": "code",
   "execution_count": 36,
   "metadata": {},
   "outputs": [],
   "source": [
    "def generate_router(state: AgentState):\n",
    "    grades = state['grades']\n",
    "    print(\"DOCUMENT GRADE: \", grades)\n",
    "\n",
    "    if any(grade.lower() == 'yes' for grade in grades):\n",
    "        filtered_grades = [grade for grade in grades if grade.lower() == \"yes\"]\n",
    "        print(\"FILTERED DOCUMENT GRADES:\", filtered_grades)\n",
    "        return \"generate\"\n",
    "    else:\n",
    "        return \"rewrite_query\""
   ]
  },
  {
   "cell_type": "code",
   "execution_count": 37,
   "metadata": {},
   "outputs": [],
   "source": [
    "from langchain_core.output_parsers import StrOutputParser\n",
    "\n",
    "def rewrite(state: AgentState):\n",
    "    question  = state['question']\n",
    "    \n",
    "    system = \"\"\"You are a question re-writer that converts an input question to a better version that is optimized \\n\n",
    "    for retrieval. Look at the input and try to reason about the underlying semantic intent / meaning.\n",
    "    \"\"\"\n",
    "\n",
    "    re_write_prompt = ChatPromptTemplate.from_messages(\n",
    "        [\n",
    "            (\"system\", system),\n",
    "            (\"human\", \"Here is the initial question: \\n\\n {question} \\n Formulate an improved question.\")\n",
    "        ]\n",
    "    )\n",
    "\n",
    "    llm = get_llm()\n",
    "    question_rewriter = re_write_prompt | llm | StrOutputParser()\n",
    "    output = question_rewriter.invoke({'question': question})\n",
    "\n",
    "    state['question'] = output\n",
    "\n",
    "    return state"
   ]
  },
  {
   "cell_type": "code",
   "execution_count": 38,
   "metadata": {},
   "outputs": [],
   "source": [
    "from langchain_core.output_parsers import StrOutputParser\n",
    "\n",
    "def generate_answer(state: AgentState):\n",
    "    llm = get_llm()\n",
    "\n",
    "    question = state['question']\n",
    "    context = state['documents']\n",
    "\n",
    "    template = \"\"\"Answer the question based only on the following context: {context}\n",
    "    \n",
    "    Question: {question}\n",
    "    \"\"\"\n",
    "\n",
    "    prompt = ChatPromptTemplate.from_template(\n",
    "        template=template\n",
    "    )\n",
    "\n",
    "    chain = prompt | llm | StrOutputParser()\n",
    "\n",
    "    result = chain.invoke({'question': question, 'context': context})\n",
    "\n",
    "    state['llm_output'] = result\n",
    "\n",
    "    return state"
   ]
  },
  {
   "cell_type": "code",
   "execution_count": 39,
   "metadata": {},
   "outputs": [],
   "source": [
    "from langgraph.graph import StateGraph, START, END\n",
    "\n",
    "workflow = StateGraph(AgentState)\n",
    "\n",
    "workflow.add_node(\"question_classifier\", question_classifier)\n",
    "workflow.add_node(\"off_topic_response\", off_topic_response)\n",
    "workflow.add_node(\"retrieve_docs\", retrieve_docs)\n",
    "workflow.add_node(\"document_grader\", document_grader)\n",
    "workflow.add_node(\"rewrite\", rewrite)\n",
    "workflow.add_node(\"generate_answer\", generate_answer)\n",
    "\n",
    "workflow.add_edge(START, 'question_classifier')\n",
    "workflow.add_edge('question_classifier', END)\n",
    "\n",
    "\n",
    "# Add edges to the workflow\n",
    "workflow.add_edge(START, 'question_classifier')\n",
    "\n",
    "\n",
    "workflow.add_conditional_edges('question_classifier',on_topic_router, {\n",
    "    \"off_topic\": \"off_topic_response\",\n",
    "    \"on_topic\": \"retrieve_docs\"\n",
    "    \n",
    "} )\n",
    "\n",
    "workflow.add_edge('retrieve_docs', 'document_grader')\n",
    "\n",
    "workflow.add_conditional_edges('document_grader', generate_router, {\n",
    "    \"generate\": \"generate_answer\",\n",
    "    \"rewrite_query\": \"rewrite\",\n",
    "})\n",
    "\n",
    "\n",
    "workflow.add_edge('rewrite', 'retrieve_docs')\n",
    "\n",
    "\n",
    "workflow.add_edge('off_topic_response', END)\n",
    "workflow.add_edge('generate_answer', END)\n",
    "\n",
    "\n",
    "\n",
    "# Compile the workflow\n",
    "app = workflow.compile()\n"
   ]
  },
  {
   "cell_type": "code",
   "execution_count": 40,
   "metadata": {},
   "outputs": [
    {
     "data": {
      "image/jpeg": "[encoded data removed]",
      "text/plain": [
       "<IPython.core.display.Image object>"
      ]
     },
     "metadata": {},
     "output_type": "display_data"
    }
   ],
   "source": [
    "from IPython.display import Image, display\n",
    "\n",
    "try:\n",
    "    display(Image(app.get_graph(xray=True).draw_mermaid_png()))\n",
    "except:\n",
    "    pass"
   ]
  },
  {
   "cell_type": "code",
   "execution_count": 41,
   "metadata": {},
   "outputs": [
    {
     "name": "stdout",
     "output_type": "stream",
     "text": [
      "QUESTION and GRADE: What new features does the iPhone 16 introduce? - What new features does the iPhone 16 introduce?\n",
      "=== OUT OF TOPIC QUESTION ====\n"
     ]
    },
    {
     "data": {
      "text/plain": [
       "{'question': 'What new features does the iPhone 16 introduce?',\n",
       " 'llm_output': 'I cant respond to that!',\n",
       " 'on_topic': 'What new features does the iPhone 16 introduce?'}"
      ]
     },
     "execution_count": 41,
     "metadata": {},
     "output_type": "execute_result"
    }
   ],
   "source": [
    "result = app.invoke({\"question\": \"What new features does the iPhone 16 introduce?\"})\n",
    "result\n"
   ]
  },
  {
   "cell_type": "code",
   "execution_count": 42,
   "metadata": {},
   "outputs": [
    {
     "name": "stdout",
     "output_type": "stream",
     "text": [
      "QUESTION and GRADE: What is the capital of kenya  - No\n",
      "=== OUT OF TOPIC QUESTION ====\n"
     ]
    },
    {
     "data": {
      "text/plain": [
       "{'question': 'What is the capital of kenya ',\n",
       " 'llm_output': 'I cant respond to that!',\n",
       " 'on_topic': 'No'}"
      ]
     },
     "execution_count": 42,
     "metadata": {},
     "output_type": "execute_result"
    }
   ],
   "source": [
    "result = app.invoke({\"question\": \"What is the capital of kenya \"})\n",
    "result"
   ]
  }
 ],
 "metadata": {
  "kernelspec": {
   "display_name": "venv",
   "language": "python",
   "name": "python3"
  },
  "language_info": {
   "codemirror_mode": {
    "name": "ipython",
    "version": 3
   },
   "file_extension": ".py",
   "mimetype": "text/x-python",
   "name": "python",
   "nbconvert_exporter": "python",
   "pygments_lexer": "ipython3",
   "version": "3.12.4"
  }
 },
 "nbformat": 4,
 "nbformat_minor": 2
}
